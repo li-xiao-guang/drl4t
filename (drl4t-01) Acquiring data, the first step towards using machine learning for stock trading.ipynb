{
 "cells": [
  {
   "cell_type": "code",
   "execution_count": null,
   "id": "cefd9bbf",
   "metadata": {},
   "outputs": [],
   "source": [
    "!pip install yfinance"
   ]
  },
  {
   "cell_type": "code",
   "execution_count": null,
   "id": "1bdfa24f",
   "metadata": {},
   "outputs": [],
   "source": [
    "import yfinance as yf"
   ]
  },
  {
   "cell_type": "code",
   "execution_count": null,
   "id": "4db6fbc0",
   "metadata": {},
   "outputs": [],
   "source": [
    "stock = yf.Ticker('AAPL')"
   ]
  },
  {
   "cell_type": "code",
   "execution_count": null,
   "id": "624e1a31",
   "metadata": {},
   "outputs": [],
   "source": [
    "stock.info"
   ]
  },
  {
   "cell_type": "code",
   "execution_count": null,
   "id": "2aca3a2a",
   "metadata": {},
   "outputs": [],
   "source": [
    "stock.info['marketCap']"
   ]
  },
  {
   "cell_type": "code",
   "execution_count": null,
   "id": "09d6599b",
   "metadata": {},
   "outputs": [],
   "source": [
    "stock.history(start='2022-01-01', end='2022-12-31')"
   ]
  },
  {
   "cell_type": "code",
   "execution_count": null,
   "id": "4013684e",
   "metadata": {},
   "outputs": [],
   "source": [
    "stock.history(period='2y', interval='1d', actions=False)"
   ]
  }
 ],
 "metadata": {
  "kernelspec": {
   "display_name": "Python 3 (ipykernel)",
   "language": "python",
   "name": "python3"
  },
  "language_info": {
   "codemirror_mode": {
    "name": "ipython",
    "version": 3
   },
   "file_extension": ".py",
   "mimetype": "text/x-python",
   "name": "python",
   "nbconvert_exporter": "python",
   "pygments_lexer": "ipython3",
   "version": "3.9.12"
  }
 },
 "nbformat": 4,
 "nbformat_minor": 5
}
