{
 "cells": [
  {
   "cell_type": "code",
   "execution_count": null,
   "id": "1f9e994d",
   "metadata": {},
   "outputs": [],
   "source": [
    "!pip install stable-baselines3"
   ]
  },
  {
   "cell_type": "code",
   "execution_count": null,
   "id": "5064da81",
   "metadata": {},
   "outputs": [],
   "source": [
    "from drl4t_data import download\n",
    "from drl4t_env import DRL4TEnv\n",
    "\n",
    "train_data, test_data = download('nyse.csv')\n",
    "env = DRL4TEnv(train_data)"
   ]
  },
  {
   "cell_type": "code",
   "execution_count": null,
   "id": "a3df428a",
   "metadata": {},
   "outputs": [],
   "source": [
    "from stable_baselines3.common.vec_env import DummyVecEnv\n",
    "from stable_baselines3 import DQN\n",
    "\n",
    "model = DQN('MlpPolicy', DummyVecEnv([lambda: env]), learning_rate=0.001, verbose=1)\n",
    "model.learn(total_timesteps=1000, log_interval=10)\n",
    "model.save('nyse_dqn_model.pt')"
   ]
  },
  {
   "cell_type": "code",
   "execution_count": null,
   "id": "73cbcda0",
   "metadata": {},
   "outputs": [],
   "source": [
    "model = DQN.load('nyse_dqn_model.pt')\n",
    "\n",
    "model.set_env(DummyVecEnv([lambda: env]))\n",
    "model.learn(total_timesteps=1000, log_interval=10)\n",
    "model.save('nyse_dqn_model.pt')"
   ]
  },
  {
   "cell_type": "code",
   "execution_count": null,
   "id": "4a9360fe",
   "metadata": {},
   "outputs": [],
   "source": [
    "import pandas as pd\n",
    "\n",
    "model = DQN.load('nyse_dqn_model.pt')\n",
    "\n",
    "logs = []\n",
    "for symbol, data in test_data.items():\n",
    "    env = DRL4TEnv({ symbol: data })\n",
    "    model.set_env(DummyVecEnv([lambda: env]))\n",
    "\n",
    "    obs = env.reset()\n",
    "    done = False\n",
    "\n",
    "    log = pd.DataFrame()\n",
    "    while(not done):\n",
    "        action, _ = model.predict(obs)\n",
    "        obs, _, done, info = env.step(action)\n",
    "        log = pd.concat([log, pd.DataFrame(info, index=[info['Date']])])\n",
    "    logs.append(log)"
   ]
  },
  {
   "cell_type": "code",
   "execution_count": null,
   "id": "2fcff4de",
   "metadata": {},
   "outputs": [],
   "source": [
    "val = pd.DataFrame()\n",
    "for log in logs:\n",
    "    log['Benchmark'] = env.starting_balance / log['Close'][0] * log['Close']\n",
    "    log['Policy'] = log['Total']\n",
    "    val = val.add(log[['Benchmark', 'Policy']], fill_value=0)\n",
    "val.to_csv('nyse_dqn_val.csv')"
   ]
  },
  {
   "cell_type": "code",
   "execution_count": null,
   "id": "926007a1",
   "metadata": {},
   "outputs": [],
   "source": [
    "val"
   ]
  },
  {
   "cell_type": "code",
   "execution_count": null,
   "id": "9024ff53",
   "metadata": {},
   "outputs": [],
   "source": [
    "import matplotlib.pyplot as plt\n",
    "\n",
    "val = pd.read_csv('nyse_dqn_val.csv', parse_dates=True, index_col=0)\n",
    "\n",
    "val['Policy'] /= val['Benchmark'][0]\n",
    "val['Benchmark'] /= val['Benchmark'][0]\n",
    "\n",
    "ax = val[['Policy', 'Benchmark']].plot(title='Normalized Policy vs. Benchmark')\n",
    "ax.set_xlabel('Date')\n",
    "ax.set_ylabel('Normalized Balance')\n",
    "plt.show() "
   ]
  }
 ],
 "metadata": {
  "kernelspec": {
   "display_name": "Python 3 (ipykernel)",
   "language": "python",
   "name": "python3"
  },
  "language_info": {
   "codemirror_mode": {
    "name": "ipython",
    "version": 3
   },
   "file_extension": ".py",
   "mimetype": "text/x-python",
   "name": "python",
   "nbconvert_exporter": "python",
   "pygments_lexer": "ipython3",
   "version": "3.9.12"
  }
 },
 "nbformat": 4,
 "nbformat_minor": 5
}
