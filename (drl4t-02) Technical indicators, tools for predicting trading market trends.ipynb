{
 "cells": [
  {
   "cell_type": "code",
   "execution_count": null,
   "id": "b89c55ff",
   "metadata": {},
   "outputs": [],
   "source": [
    "import yfinance as yf\n",
    "\n",
    "stock = yf.Ticker('AAPL')\n",
    "hist = stock.history(period='2y', interval='1d', actions=False)"
   ]
  },
  {
   "cell_type": "code",
   "execution_count": null,
   "id": "e35465a6",
   "metadata": {},
   "outputs": [],
   "source": [
    "hist['SMA10'] = hist['Close'].rolling(window=10).mean()\n",
    "hist['SMA20'] = hist['Close'].rolling(window=20).mean()"
   ]
  },
  {
   "cell_type": "code",
   "execution_count": null,
   "id": "381da48a",
   "metadata": {},
   "outputs": [],
   "source": [
    "ema_short = hist['Close'].ewm(span=12, adjust=False).mean()\n",
    "ema_long = hist['Close'].ewm(span=26, adjust=False).mean()\n",
    "hist['MACD_DIF'] = ema_short - ema_long\n",
    "hist['MACD_SIGNAL'] = hist['MACD_DIF'].ewm(span=9, adjust=False).mean()\n",
    "hist['MACD'] = hist['MACD_DIF'] - hist['MACD_SIGNAL']"
   ]
  },
  {
   "cell_type": "code",
   "execution_count": null,
   "id": "b50fe29a",
   "metadata": {},
   "outputs": [],
   "source": [
    "sma = hist['Close'].rolling(window=20).mean()\n",
    "std = hist['Close'].rolling(window=20).std()\n",
    "hist['UB'] = sma + 2 * std\n",
    "hist['LB'] = sma - 2 * std"
   ]
  },
  {
   "cell_type": "code",
   "execution_count": null,
   "id": "588336e9",
   "metadata": {},
   "outputs": [],
   "source": [
    "mfm = ((hist['Close'] - hist['Low']) - (hist['High'] - hist['Close'])) / (hist['High'] - hist['Low'])\n",
    "mfv = mfm * hist['Volume']\n",
    "hist['CMF'] = mfv.rolling(21).sum() / hist['Volume'].rolling(21).sum()"
   ]
  },
  {
   "cell_type": "code",
   "execution_count": null,
   "id": "1dcf4f87",
   "metadata": {},
   "outputs": [],
   "source": [
    "hist[['SMA10', 'SMA20', 'MACD_DIF', 'MACD_SIGNAL', 'MACD', 'UB', 'LB', 'CMF']]"
   ]
  }
 ],
 "metadata": {
  "kernelspec": {
   "display_name": "Python 3 (ipykernel)",
   "language": "python",
   "name": "python3"
  },
  "language_info": {
   "codemirror_mode": {
    "name": "ipython",
    "version": 3
   },
   "file_extension": ".py",
   "mimetype": "text/x-python",
   "name": "python",
   "nbconvert_exporter": "python",
   "pygments_lexer": "ipython3",
   "version": "3.9.12"
  }
 },
 "nbformat": 4,
 "nbformat_minor": 5
}
