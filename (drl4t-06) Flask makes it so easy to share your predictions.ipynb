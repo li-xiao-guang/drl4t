{
 "cells": [
  {
   "cell_type": "code",
   "execution_count": null,
   "id": "4561b378",
   "metadata": {},
   "outputs": [],
   "source": [
    "!pip install flask"
   ]
  },
  {
   "cell_type": "code",
   "execution_count": null,
   "id": "f702e3e3",
   "metadata": {},
   "outputs": [],
   "source": [
    "from drl4t_data import download\n",
    "\n",
    "train_data, test_data = download('nyse.csv')"
   ]
  },
  {
   "cell_type": "code",
   "execution_count": null,
   "id": "36e42c19",
   "metadata": {},
   "outputs": [],
   "source": [
    "from stable_baselines3.common.vec_env import DummyVecEnv\n",
    "from stable_baselines3 import DQN\n",
    "\n",
    "model = DQN.load('nyse_dqn_model.pt')"
   ]
  },
  {
   "cell_type": "code",
   "execution_count": null,
   "id": "d01de7f6",
   "metadata": {},
   "outputs": [],
   "source": [
    "import pandas as pd\n",
    "from drl4t_env import DRL4TEnv, Actions\n",
    "\n",
    "pred = pd.DataFrame(columns=['Symbol', 'Predict'])\n",
    "for symbol, data in test_data.items():\n",
    "    env = DRL4TEnv({ symbol: data })\n",
    "    model.set_env(DummyVecEnv([lambda: env]))\n",
    "\n",
    "    obs = env.reset()\n",
    "    done = False\n",
    "\n",
    "    while(not done):\n",
    "        action, _ = model.predict(obs)\n",
    "        obs, _, done, info = env.step(action)\n",
    "\n",
    "    action, _ = model.predict(obs)\n",
    "    if action != Actions.Hold.value:\n",
    "        info['Predict'] = Actions(action).name\n",
    "        pred = pd.concat([pred, pd.DataFrame(info, index=[info['Date']])])\n",
    "\n",
    "pred[['Symbol', 'Predict']].to_csv('nyse_dqn_pred.csv')"
   ]
  },
  {
   "cell_type": "code",
   "execution_count": null,
   "id": "4979c0a0",
   "metadata": {},
   "outputs": [],
   "source": [
    "from flask import Flask\n",
    "\n",
    "app = Flask(__name__)"
   ]
  },
  {
   "cell_type": "code",
   "execution_count": null,
   "id": "b78315f4",
   "metadata": {},
   "outputs": [],
   "source": [
    "from flask import render_template\n",
    "import pandas as pd\n",
    "\n",
    "@app.route('/', methods=['GET'])\n",
    "def highlight(): \n",
    "    pred = pd.read_csv('nyse_dqn_pred.csv')\n",
    "    table_html=pred[['Symbol', 'Predict']].to_html()\n",
    "    return render_template('index.html', table_html=table_html)"
   ]
  },
  {
   "cell_type": "code",
   "execution_count": null,
   "id": "1daaf132",
   "metadata": {},
   "outputs": [],
   "source": [
    "app.run(host='localhost', port=5000)"
   ]
  }
 ],
 "metadata": {
  "kernelspec": {
   "display_name": "Python 3 (ipykernel)",
   "language": "python",
   "name": "python3"
  },
  "language_info": {
   "codemirror_mode": {
    "name": "ipython",
    "version": 3
   },
   "file_extension": ".py",
   "mimetype": "text/x-python",
   "name": "python",
   "nbconvert_exporter": "python",
   "pygments_lexer": "ipython3",
   "version": "3.9.12"
  }
 },
 "nbformat": 4,
 "nbformat_minor": 5
}
