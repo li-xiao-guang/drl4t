{
 "cells": [
  {
   "cell_type": "code",
   "execution_count": null,
   "id": "9413e471",
   "metadata": {},
   "outputs": [],
   "source": [
    "import pandas as pd\n",
    "\n",
    "df = pd.read_csv('nyse.csv')"
   ]
  },
  {
   "cell_type": "code",
   "execution_count": null,
   "id": "164df1e7",
   "metadata": {},
   "outputs": [],
   "source": [
    "import yfinance as yf\n",
    "\n",
    "data = {}\n",
    "for symbol in df['Symbol']:\n",
    "    try:\n",
    "        ticker = yf.Ticker(symbol)\n",
    "        hist = ticker.history(interval='1d', period='5y', actions=False)\n",
    "        if len(hist) > 0:\n",
    "            data[symbol] = hist\n",
    "    except:\n",
    "        print(f'Failed to download data for {symbol}')"
   ]
  },
  {
   "cell_type": "code",
   "execution_count": null,
   "id": "1ce849e5",
   "metadata": {},
   "outputs": [],
   "source": [
    "data.keys()"
   ]
  },
  {
   "cell_type": "code",
   "execution_count": null,
   "id": "c5dd2da7",
   "metadata": {},
   "outputs": [],
   "source": [
    "for symbol, hist in data.items():\n",
    "    hist['SMA10'] = hist['Close'].rolling(window=10).mean()\n",
    "    hist['SMA20'] = hist['Close'].rolling(window=20).mean()\n",
    "    \n",
    "    ema_short = hist['Close'].ewm(span=12, adjust=False).mean()\n",
    "    ema_long = hist['Close'].ewm(span=26, adjust=False).mean()\n",
    "    hist['MACD_DIF'] = ema_short - ema_long\n",
    "    hist['MACD_SIGNAL'] = hist['MACD_DIF'].ewm(span=9, adjust=False).mean()\n",
    "    hist['MACD'] = hist['MACD_DIF'] - hist['MACD_SIGNAL']\n",
    "    \n",
    "    sma = hist['Close'].rolling(window=20).mean()\n",
    "    std = hist['Close'].rolling(window=20).std()\n",
    "    hist['UB'] = sma + 2 * std\n",
    "    hist['LB'] = sma - 2 * std\n",
    "    \n",
    "    mfm = ((hist['Close'] - hist['Low']) - (hist['High'] - hist['Close'])) / (hist['High'] - hist['Low'])\n",
    "    mfv = mfm * hist['Volume']\n",
    "    hist['CMF'] = mfv.rolling(21).sum() / hist['Volume'].rolling(21).sum()"
   ]
  },
  {
   "cell_type": "code",
   "execution_count": null,
   "id": "9699fdea",
   "metadata": {},
   "outputs": [],
   "source": [
    "symbol = list(train_data.keys())[0]"
   ]
  },
  {
   "cell_type": "code",
   "execution_count": null,
   "id": "f085ec55",
   "metadata": {},
   "outputs": [],
   "source": [
    "data[symbol][['SMA10', 'SMA20', 'MACD_DIF', 'MACD_SIGNAL', 'MACD', 'UB', 'LB', 'CMF']]"
   ]
  },
  {
   "cell_type": "code",
   "execution_count": null,
   "id": "784ad9b5",
   "metadata": {},
   "outputs": [],
   "source": [
    "for symbol, hist in data.items():\n",
    "    hist['SMARatio10'] = hist['Close'] / hist['SMA10']\n",
    "    hist['SMARatio20'] = hist['Close'] / hist['SMA20']"
   ]
  },
  {
   "cell_type": "code",
   "execution_count": null,
   "id": "0f9d66f2",
   "metadata": {},
   "outputs": [],
   "source": [
    "for symbol, hist in data.items():\n",
    "    hist['BBP'] = (hist['Close'] - hist['LB']) / (hist['UB'] - hist['LB'])"
   ]
  },
  {
   "cell_type": "code",
   "execution_count": null,
   "id": "2cba3144",
   "metadata": {},
   "outputs": [],
   "source": [
    "for symbol, hist in data.items():\n",
    "    data[symbol] = hist.dropna()"
   ]
  },
  {
   "cell_type": "code",
   "execution_count": null,
   "id": "34fb481f",
   "metadata": {},
   "outputs": [],
   "source": [
    "data[symbol][['SMARatio10', 'SMARatio20', 'MACD', 'BBP', 'CMF']]"
   ]
  },
  {
   "cell_type": "code",
   "execution_count": null,
   "id": "66724f10",
   "metadata": {},
   "outputs": [],
   "source": [
    "import datetime as dt\n",
    "\n",
    "train_data = {}\n",
    "test_data = {}\n",
    "\n",
    "split_date = dt.date.today() - pd.DateOffset(days=100)\n",
    "\n",
    "for symbol, hist in data.items():\n",
    "    train_data[symbol] = hist[:split_date - pd.Timedelta(days=1)]\n",
    "    test_data[symbol] = hist[split_date:]"
   ]
  },
  {
   "cell_type": "code",
   "execution_count": null,
   "id": "a83e7f34",
   "metadata": {},
   "outputs": [],
   "source": [
    "train_data[symbol][['SMARatio10', 'SMARatio20', 'MACD', 'BBP', 'CMF']]"
   ]
  },
  {
   "cell_type": "code",
   "execution_count": null,
   "id": "e3af2f11",
   "metadata": {},
   "outputs": [],
   "source": [
    "test_data[symbol][['SMARatio10', 'SMARatio20', 'MACD', 'BBP', 'CMF']]"
   ]
  }
 ],
 "metadata": {
  "kernelspec": {
   "display_name": "Python 3 (ipykernel)",
   "language": "python",
   "name": "python3"
  },
  "language_info": {
   "codemirror_mode": {
    "name": "ipython",
    "version": 3
   },
   "file_extension": ".py",
   "mimetype": "text/x-python",
   "name": "python",
   "nbconvert_exporter": "python",
   "pygments_lexer": "ipython3",
   "version": "3.9.12"
  }
 },
 "nbformat": 4,
 "nbformat_minor": 5
}
